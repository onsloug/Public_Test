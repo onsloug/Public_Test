{
 "cells": [
  {
   "cell_type": "code",
   "execution_count": 1,
   "id": "bbb017ee",
   "metadata": {},
   "outputs": [],
   "source": [
    "#!pip3 install -r requirements.txt"
   ]
  },
  {
   "cell_type": "code",
   "execution_count": 2,
   "id": "9a1dcde7",
   "metadata": {
    "id": "9a1dcde7"
   },
   "outputs": [],
   "source": [
    "import azure.cognitiveservices.speech as speechsdk\n",
    "# import pyttsx3 #Optional instead of Azure TTS\n",
    "# import SpeechRecognition # Optional instead of Azure STT\n",
    "from datetime import date, datetime\n",
    "import webbrowser\n",
    "import os\n",
    "import string\n",
    "import socket\n",
    "import time\n",
    "import sys"
   ]
  },
  {
   "cell_type": "code",
   "execution_count": 3,
   "id": "0852ab87",
   "metadata": {},
   "outputs": [],
   "source": [
    "# Collect info for log file\n",
    "\n",
    "today = date.today()\n",
    "host= (socket.gethostname())\n",
    "user= os.getlogin()\n",
    "session= today.strftime(\"%b-%d-%Y\")\n",
    "now = datetime.now()"
   ]
  },
  {
   "cell_type": "code",
   "execution_count": 4,
   "id": "d9997897",
   "metadata": {},
   "outputs": [],
   "source": [
    "# Create log file to be used for improvements of commands and keywords\n",
    "\n",
    "log_file = 'ClaraAI_log/'+host+'_'+user+'_'+session+'.txt'\n",
    "open(log_file , 'a').close()\n",
    "with open(log_file, 'w') as f:\n",
    "    f.write('Starting log for user: '+user+' on date '+session+' :')"
   ]
  },
  {
   "cell_type": "code",
   "execution_count": 5,
   "id": "8211bfbf",
   "metadata": {},
   "outputs": [],
   "source": [
    "#Remove files based on specific lenght of time\n",
    "\n",
    "def clean_data(X, D):\n",
    "    path = X\n",
    "    now = time.time()\n",
    "    for f in os.listdir(path):\n",
    "        f = os.path.join(path, f)\n",
    "        if os.stat(f).st_mtime < now - D * 86400:\n",
    "            if os.path.isfile(f):\n",
    "                os.remove(f)"
   ]
  },
  {
   "cell_type": "code",
   "execution_count": 6,
   "id": "ff5afa13",
   "metadata": {},
   "outputs": [],
   "source": [
    "# Apply to keep the data only for 30 days \n",
    "\n",
    "clean_data(r\"ClaraAI_log/\", 30)"
   ]
  },
  {
   "cell_type": "code",
   "execution_count": 7,
   "id": "1a0d54f5",
   "metadata": {
    "id": "1a0d54f5"
   },
   "outputs": [],
   "source": [
    "# Initial greeting when the app starts based on time\n",
    "\n",
    "def wishMe():\n",
    "    hour=datetime.now().hour\n",
    "    if hour>=0 and hour<12:\n",
    "        speak(\"Hello,Good Morning\")\n",
    "        print(\"Hello,Good Morning\")\n",
    "    elif hour>=12 and hour<18:\n",
    "        speak(\"Hello,Good Afternoon\")\n",
    "        print(\"Hello,Good Afternoon\")\n",
    "    else:\n",
    "        speak(\"Hello,Good Evening\")\n",
    "        print(\"Hello,Good Evening\")"
   ]
  },
  {
   "cell_type": "code",
   "execution_count": 8,
   "id": "ec7aef66",
   "metadata": {},
   "outputs": [],
   "source": [
    "# Azure TTS\n",
    "\n",
    "speech_config_tts = speechsdk.SpeechConfig(subscription=\"18186b8713654bddb0513d125c714121\", region=\"uksouth\")\n",
    "speech_config_tts.speech_synthesis_language = \"en-UK\"\n",
    "speech_config_tts.speech_synthesis_voice_name =\"en-GB-SoniaNeural\" #  alternative en-GB-LibbyNeural en-GB-SoniaNeural or en-GB-RyanNeural for male option\n",
    "audio_config = speechsdk.audio.AudioOutputConfig(use_default_speaker=True)\n",
    "synthesizer = speechsdk.SpeechSynthesizer(speech_config=speech_config_tts, audio_config=audio_config)"
   ]
  },
  {
   "cell_type": "code",
   "execution_count": 9,
   "id": "8fae6938",
   "metadata": {},
   "outputs": [],
   "source": [
    "# Speak command to use TTS\n",
    "\n",
    "def speak(text):\n",
    "    synthesizer.speak_text_async(text)"
   ]
  },
  {
   "cell_type": "code",
   "execution_count": 10,
   "id": "47e9ea5f",
   "metadata": {
    "id": "47e9ea5f",
    "outputId": "a4b4635a-5778-4743-ac06-e64cb7e73a11"
   },
   "outputs": [
    {
     "name": "stdout",
     "output_type": "stream",
     "text": [
      "Loading Clara AI\n",
      "Hello,Good Evening\n"
     ]
    }
   ],
   "source": [
    "# Azure STT\n",
    "\n",
    "def takeCommand():\n",
    "    speech_config = speechsdk.SpeechConfig(subscription=\"18186b8713654bddb0513d125c714121\", region=\"uksouth\")\n",
    "    speech_recognizer = speechsdk.SpeechRecognizer(speech_config=speech_config)\n",
    "    #add list in the dictonary to help recognise\n",
    "    phrase_list_grammar = speechsdk.PhraseListGrammar.from_recognizer(speech_recognizer)\n",
    "    phrase_list_grammar.addPhrase(\"kcw\")\n",
    "    phrase_list_grammar.addPhrase(\"downtimes\")\n",
    "    phrase_list_grammar.addPhrase(\"dpp\")\n",
    "    phrase_list_grammar.addPhrase(\"kaeg aicpa\")\n",
    "    phrase_list_grammar.addPhrase(\"pcaob\")\n",
    "    phrase_list_grammar.addPhrase(\"faqs\")\n",
    "    phrase_list_grammar.addPhrase(\"kaeg\")\n",
    "    phrase_list_grammar.addPhrase(\"kaeg isa\")\n",
    "    phrase_list_grammar.addPhrase(\"kaeg workpapers\")\n",
    "    phrase_list_grammar.addPhrase(\"kam\")\n",
    "    phrase_list_grammar.addPhrase(\"audit\")\n",
    "    phrase_list_grammar.addPhrase(\"eaudit\")\n",
    "    phrase_list_grammar.addPhrase(\"kaeg pcaob\")\n",
    "    print(\"Listening...\")\n",
    "    result = speech_recognizer.recognize_once_async().get()\n",
    "    statement = result.text\n",
    "    print(f\"user said: {statement}\\n\")\n",
    "    return statement.lower()\n",
    "\n",
    "print(\"Loading Clara AI\")\n",
    "speak(\"Loading Clara AI\")\n",
    "wishMe()"
   ]
  },
  {
   "cell_type": "markdown",
   "id": "e1e05664",
   "metadata": {
    "id": "e1e05664"
   },
   "source": [
    "Main function"
   ]
  },
  {
   "cell_type": "code",
   "execution_count": null,
   "id": "07f91b4f",
   "metadata": {
    "id": "07f91b4f",
    "outputId": "91c60c72-1114-4e36-f589-32287c9de17d",
    "scrolled": true
   },
   "outputs": [],
   "source": [
    "# Infinite loop to execute commands\n",
    "# All commanda can be execute after the user says Hello Clara\n",
    "\n",
    "WAKE = \"hello clara\"\n",
    "print(\"Start\")\n",
    "count = 0\n",
    "\n",
    "while True:\n",
    "    print(\"Listening\")\n",
    "    statement = takeCommand()\n",
    "\n",
    "    if statement.count(WAKE) > 0:\n",
    "        speak(\"hello, how can I help you?\")\n",
    "        count=0\n",
    "        statement = takeCommand()\n",
    "        \n",
    "        Apps = [\"alex\"]\n",
    "        for phrase in Apps:\n",
    "            if phrase in statement:\n",
    "                speak('opening alex in a new browser...')\n",
    "                webbrowser.open_new(\"https://alex.kpmg.com/AROWeb/home\")\n",
    "                speak(\"Alex is open now\")\n",
    "                count = 1\n",
    "\n",
    "        Greeting = [\"how are you\", \"how are you doing\"]\n",
    "        for phrase in Greeting:\n",
    "            if phrase in statement:\n",
    "                speak(\"i'm fine, thanks for asking\")\n",
    "                count = 1\n",
    "                \n",
    "        Search_com = [\"search for\", \"find\"]\n",
    "        for phrase in Search_com:\n",
    "            if phrase in statement:\n",
    "                statement = statement.replace(\"search for \", '')\n",
    "                statement = statement.replace(\"find \", '')\n",
    "                statement  = statement .replace(\".\", '')\n",
    "                time.sleep(2)\n",
    "                url = \"https://alex.kpmg.com/AROWeb/search;als=1;sort=Relevance;vm=0?q=\"+statement+\"&d=UK\"\n",
    "                webbrowser.open_new(url)\n",
    "                speak(\"Here are the results for \"+statement+\", goodbye\")\n",
    "                count = 1\n",
    "                \n",
    "        Kcw_Workpapers = ['kcw work papers', 'kcw workpapers', 'kcw uk work papers', 'kcw uk workpapers']\n",
    "        for phrase in Kcw_Workpapers:\n",
    "            if phrase in statement:\n",
    "                url = \"https://alex.kpmg.com/AROWeb/document/lfc/UK_KAEG_FSA_WPs/toc/UK_KAEG_FSA_WPs?tocref=UK_KAEG_FSA_WPs\"\n",
    "                webbrowser.open_new(url)\n",
    "                speak(\"Here are the \"+phrase+\", goodbye\")\n",
    "                count = 1\n",
    "        \n",
    "        saved = ['saved searches']\n",
    "        for phrase in saved:\n",
    "            if phrase in statement:\n",
    "                url = \"https://alex.kpmg.com/AROWeb/spaces/savedsearch\"\n",
    "                webbrowser.open_new(url)\n",
    "                speak(\"Here are your \"+phrase+\", goodbye\")\n",
    "                count = 1\n",
    "\n",
    "        topic= ['topic overview', 'topics overview', 'topic overviews']\n",
    "        for phrase in topic:\n",
    "            if phrase in statement:\n",
    "                url = \"https://alex.kpmg.com/AROWeb/bridge/22546/22546?d=UK\"\n",
    "                webbrowser.open_new(url)\n",
    "                speak(\"Here are your \"+phrase+\", goodbye\")\n",
    "                count = 1\n",
    "\n",
    "        # Example of command nesting below\n",
    "        \n",
    "        Bulletin = ['bulletin', 'bulletins']\n",
    "        for phrase in Bulletin:\n",
    "            if phrase in statement:\n",
    "                speak('do you want to see the DPP Bite-Size Bulletin instead?')\n",
    "                statement = takeCommand()\n",
    "                Answers1=['yes','Yes']\n",
    "                for a in Answers1:\n",
    "                    if a in statement:\n",
    "                        url = \"https://alex.kpmg.com/AROWeb/document/lfc/UK_AU_DPP_Bull_Read/toc/UK_AU_DPP_Bull_Read?tocref=UK_AU_DPP_Bulletin\"\n",
    "                        webbrowser.open_new(url)\n",
    "                        speak(\"Here are the DPP Bite-Size Bulletins\")\n",
    "                        count = 1 \n",
    "                Answers2=['no','No']\n",
    "                for a2 in Answers2:\n",
    "                   if a2 in statement: \n",
    "                       speak('do you want to see any specific year?')\n",
    "                       statement = takeCommand()\n",
    "                       for a2 in Answers2:\n",
    "                           if a2 in statement:\n",
    "                               url = \"https://alex.kpmg.com/AROWeb/bridge/17843/17843?d=UK\"\n",
    "                               webbrowser.open_new(url)\n",
    "                               speak(\"Here are all the DPP Bulletins available\")\n",
    "                               count = 1\n",
    "                       for a in Answers1:\n",
    "                           if a in statement:\n",
    "                               speak('Available years are 2022 to 2017, what year are you interested on?')\n",
    "                               statement = takeCommand()\n",
    "                               year2022 = ['2022']\n",
    "                               for y in year2022:\n",
    "                                   if y in statement:\n",
    "                                       url = \"https://alex.kpmg.com/AROWeb/bridge/17843/29794?d=UK\"\n",
    "                                       webbrowser.open_new(url)\n",
    "                                       speak(\"Here are all the DPP Bulletins available for year 2022, goodbye\")\n",
    "                                       count = 1\n",
    "                               year2021 = ['2021']\n",
    "                               for y in year2021:\n",
    "                                   if y in statement:\n",
    "                                       url = \"https://alex.kpmg.com/AROWeb/bridge/17843/28575?d=UK\"\n",
    "                                       webbrowser.open_new(url)\n",
    "                                       speak(\"Here are all the DPP Bulletins available for year 2021, goodbye\")\n",
    "                                       count = 1\n",
    "                               year2020 = ['2020']\n",
    "                               for y in year2020:\n",
    "                                   if y in statement:\n",
    "                                       url = \"https://alex.kpmg.com/AROWeb/bridge/17843/28623?d=UK\"\n",
    "                                       webbrowser.open_new(url)\n",
    "                                       speak(\"Here are all the DPP Bulletins available for year 2020, goodbye\")\n",
    "                                       count = 1      \n",
    "                               year2019 = ['2019']\n",
    "                               for y in year2019:\n",
    "                                   if y in statement:\n",
    "                                       url = \"https://alex.kpmg.com/AROWeb/bridge/17843/24586?d=UK\"\n",
    "                                       webbrowser.open_new(url)\n",
    "                                       speak(\"Here are all the DPP Bulletins available for year 2019, goodbye\")\n",
    "                                       count = 1\n",
    "                               year2018 = ['2018']\n",
    "                               for y in year2018:\n",
    "                                   if y in statement:\n",
    "                                       url = \"https://alex.kpmg.com/AROWeb/bridge/17843/23019?d=UK\"\n",
    "                                       webbrowser.open_new(url)\n",
    "                                       speak(\"Here are all the DPP Bulletins available for year 2018, goodbye\")\n",
    "                                       count = 1\n",
    "                               year2017 = ['2017'] #need to get the download link\n",
    "                               for y in year2017:\n",
    "                                   if y in statement:\n",
    "                                       url = \"https://alex.kpmg.com/AROWeb/bridge/17843/23019?d=UK\"\n",
    "                                       webbrowser.open_new(url)\n",
    "                                       speak(\"Here are all the D P P Bulletins available for year 2017, goodbye\")\n",
    "                                       count = 1\n",
    "\n",
    "        # This trigger if the audio is not clear or if the command if not in the list. \n",
    "        # The creation of the log file will help enhance the commands, based on what users ask to the tool.  \n",
    "        \n",
    "        if count == 0:\n",
    "            speak(\"I didn't understand you, please try again. Good bye\")\n",
    "            with open(log_file, \"a+\") as file_object:\n",
    "                file_object.seek(0)\n",
    "                data = file_object.read(100)\n",
    "                if len(data) > 0 :\n",
    "                    file_object.write(\"\\n\")\n",
    "                    file_object.write((str(now))+\"_\"+statement)\n",
    "                "
   ]
  }
 ],
 "metadata": {
  "colab": {
   "name": "Clara_AI.ipynb",
   "provenance": []
  },
  "kernelspec": {
   "display_name": "Python 3 (ipykernel)",
   "language": "python",
   "name": "python3"
  },
  "language_info": {
   "codemirror_mode": {
    "name": "ipython",
    "version": 3
   },
   "file_extension": ".py",
   "mimetype": "text/x-python",
   "name": "python",
   "nbconvert_exporter": "python",
   "pygments_lexer": "ipython3",
   "version": "3.9.7"
  }
 },
 "nbformat": 4,
 "nbformat_minor": 5
}
